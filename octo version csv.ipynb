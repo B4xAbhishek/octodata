{
 "cells": [
  {
   "cell_type": "code",
   "execution_count": 1,
   "metadata": {
    "collapsed": false
   },
   "outputs": [],
   "source": [
    "import pandas as pd\n",
    "import numpy as np"
   ]
  },
  {
   "cell_type": "code",
   "execution_count": 2,
   "metadata": {
    "collapsed": false
   },
   "outputs": [
    {
     "data": {
      "text/html": [
       "<div>\n",
       "<table border=\"1\" class=\"dataframe\">\n",
       "  <thead>\n",
       "    <tr style=\"text-align: right;\">\n",
       "      <th></th>\n",
       "      <th>$distinct_id</th>\n",
       "      <th>Name</th>\n",
       "      <th>$properties.$last_seen</th>\n",
       "      <th>$properties.$android_brand</th>\n",
       "      <th>$properties.$android_os</th>\n",
       "      <th>$properties.$android_lib_version</th>\n",
       "      <th>$properties.$android_app_version_code</th>\n",
       "    </tr>\n",
       "  </thead>\n",
       "  <tbody>\n",
       "    <tr>\n",
       "      <th>0</th>\n",
       "      <td>8700431499</td>\n",
       "      <td>NaN</td>\n",
       "      <td>2019-05-16T22:02:11</td>\n",
       "      <td>Xiaomi</td>\n",
       "      <td>Android</td>\n",
       "      <td>5.4.4</td>\n",
       "      <td>6</td>\n",
       "    </tr>\n",
       "    <tr>\n",
       "      <th>1</th>\n",
       "      <td>9817479935</td>\n",
       "      <td>NaN</td>\n",
       "      <td>2020-01-01T14:29:36</td>\n",
       "      <td>vivo</td>\n",
       "      <td>Android</td>\n",
       "      <td>5.4.4</td>\n",
       "      <td>13</td>\n",
       "    </tr>\n",
       "    <tr>\n",
       "      <th>2</th>\n",
       "      <td>7775858558</td>\n",
       "      <td>NaN</td>\n",
       "      <td>2020-01-01T14:28:27</td>\n",
       "      <td>vivo</td>\n",
       "      <td>Android</td>\n",
       "      <td>5.4.4</td>\n",
       "      <td>13</td>\n",
       "    </tr>\n",
       "    <tr>\n",
       "      <th>3</th>\n",
       "      <td>9754806385</td>\n",
       "      <td>NaN</td>\n",
       "      <td>2019-07-25T11:53:58</td>\n",
       "      <td>samsung</td>\n",
       "      <td>Android</td>\n",
       "      <td>5.4.4</td>\n",
       "      <td>14</td>\n",
       "    </tr>\n",
       "    <tr>\n",
       "      <th>4</th>\n",
       "      <td>9897973957</td>\n",
       "      <td>NaN</td>\n",
       "      <td>2020-01-01T14:29:28</td>\n",
       "      <td>samsung</td>\n",
       "      <td>Android</td>\n",
       "      <td>5.4.4</td>\n",
       "      <td>14</td>\n",
       "    </tr>\n",
       "  </tbody>\n",
       "</table>\n",
       "</div>"
      ],
      "text/plain": [
       "  $distinct_id Name $properties.$last_seen $properties.$android_brand  \\\n",
       "0   8700431499  NaN    2019-05-16T22:02:11                     Xiaomi   \n",
       "1   9817479935  NaN    2020-01-01T14:29:36                       vivo   \n",
       "2   7775858558  NaN    2020-01-01T14:28:27                       vivo   \n",
       "3   9754806385  NaN    2019-07-25T11:53:58                    samsung   \n",
       "4   9897973957  NaN    2020-01-01T14:29:28                    samsung   \n",
       "\n",
       "  $properties.$android_os $properties.$android_lib_version  \\\n",
       "0                 Android                            5.4.4   \n",
       "1                 Android                            5.4.4   \n",
       "2                 Android                            5.4.4   \n",
       "3                 Android                            5.4.4   \n",
       "4                 Android                            5.4.4   \n",
       "\n",
       "  $properties.$android_app_version_code  \n",
       "0                                     6  \n",
       "1                                    13  \n",
       "2                                    13  \n",
       "3                                    14  \n",
       "4                                    14  "
      ]
     },
     "execution_count": 2,
     "metadata": {},
     "output_type": "execute_result"
    }
   ],
   "source": [
    "df = pd.read_csv('data1.csv')\n",
    "df.head()"
   ]
  },
  {
   "cell_type": "code",
   "execution_count": 3,
   "metadata": {
    "collapsed": false
   },
   "outputs": [
    {
     "data": {
      "text/html": [
       "<div>\n",
       "<table border=\"1\" class=\"dataframe\">\n",
       "  <thead>\n",
       "    <tr style=\"text-align: right;\">\n",
       "      <th></th>\n",
       "      <th>$distinct_id</th>\n",
       "      <th>Name</th>\n",
       "      <th>$properties.$last_seen</th>\n",
       "      <th>$properties.$android_brand</th>\n",
       "      <th>$properties.$android_os</th>\n",
       "      <th>$properties.$android_lib_version</th>\n",
       "      <th>$properties.$android_app_version_code</th>\n",
       "    </tr>\n",
       "  </thead>\n",
       "  <tbody>\n",
       "    <tr>\n",
       "      <th>39906</th>\n",
       "      <td>7351691111</td>\n",
       "      <td>shaurya</td>\n",
       "      <td>2019-12-29T10:53:41</td>\n",
       "      <td>xiaomi</td>\n",
       "      <td>Android</td>\n",
       "      <td>5.4.4</td>\n",
       "      <td>82</td>\n",
       "    </tr>\n",
       "    <tr>\n",
       "      <th>39907</th>\n",
       "      <td>7340071230</td>\n",
       "      <td>dimpi soni</td>\n",
       "      <td>2019-12-30T16:29:14</td>\n",
       "      <td>realme</td>\n",
       "      <td>Android</td>\n",
       "      <td>5.4.4</td>\n",
       "      <td>83</td>\n",
       "    </tr>\n",
       "    <tr>\n",
       "      <th>39908</th>\n",
       "      <td>7506656696</td>\n",
       "      <td>fauzi</td>\n",
       "      <td>2019-12-30T13:03:49</td>\n",
       "      <td>OPPO</td>\n",
       "      <td>Android</td>\n",
       "      <td>5.4.4</td>\n",
       "      <td>83</td>\n",
       "    </tr>\n",
       "    <tr>\n",
       "      <th>39909</th>\n",
       "      <td>9318462626</td>\n",
       "      <td>Priti</td>\n",
       "      <td>2019-12-30T05:19:27</td>\n",
       "      <td>xiaomi</td>\n",
       "      <td>Android</td>\n",
       "      <td>5.4.4</td>\n",
       "      <td>83</td>\n",
       "    </tr>\n",
       "    <tr>\n",
       "      <th>39910</th>\n",
       "      <td>9510111904</td>\n",
       "      <td>Aminkajal</td>\n",
       "      <td>2019-12-30T13:43:39</td>\n",
       "      <td>LAVA</td>\n",
       "      <td>Android</td>\n",
       "      <td>5.4.4</td>\n",
       "      <td>82</td>\n",
       "    </tr>\n",
       "    <tr>\n",
       "      <th>39911</th>\n",
       "      <td>7387723565</td>\n",
       "      <td>kranti kulkarni</td>\n",
       "      <td>2019-12-30T14:59:42</td>\n",
       "      <td>xiaomi</td>\n",
       "      <td>Android</td>\n",
       "      <td>5.4.4</td>\n",
       "      <td>83</td>\n",
       "    </tr>\n",
       "    <tr>\n",
       "      <th>39912</th>\n",
       "      <td>9284071230</td>\n",
       "      <td>momin mehraj</td>\n",
       "      <td>2020-01-05T18:47:31</td>\n",
       "      <td>samsung</td>\n",
       "      <td>Android</td>\n",
       "      <td>5.4.4</td>\n",
       "      <td>82</td>\n",
       "    </tr>\n",
       "    <tr>\n",
       "      <th>39913</th>\n",
       "      <td>8291876969</td>\n",
       "      <td>Priyanka</td>\n",
       "      <td>2019-12-31T17:13:52</td>\n",
       "      <td>OPPO</td>\n",
       "      <td>Android</td>\n",
       "      <td>5.4.4</td>\n",
       "      <td>84</td>\n",
       "    </tr>\n",
       "    <tr>\n",
       "      <th>39914</th>\n",
       "      <td>8108234059</td>\n",
       "      <td>ritika</td>\n",
       "      <td>2020-01-01T03:47:55</td>\n",
       "      <td>samsung</td>\n",
       "      <td>Android</td>\n",
       "      <td>5.4.4</td>\n",
       "      <td>84</td>\n",
       "    </tr>\n",
       "    <tr>\n",
       "      <th>39915</th>\n",
       "      <td>9427837770</td>\n",
       "      <td>NaN</td>\n",
       "      <td>2020-01-01T14:30:07</td>\n",
       "      <td>undefined</td>\n",
       "      <td>undefined</td>\n",
       "      <td>undefined</td>\n",
       "      <td>undefined</td>\n",
       "    </tr>\n",
       "  </tbody>\n",
       "</table>\n",
       "</div>"
      ],
      "text/plain": [
       "      $distinct_id             Name $properties.$last_seen  \\\n",
       "39906   7351691111          shaurya    2019-12-29T10:53:41   \n",
       "39907   7340071230       dimpi soni    2019-12-30T16:29:14   \n",
       "39908   7506656696            fauzi    2019-12-30T13:03:49   \n",
       "39909   9318462626            Priti    2019-12-30T05:19:27   \n",
       "39910   9510111904        Aminkajal    2019-12-30T13:43:39   \n",
       "39911   7387723565  kranti kulkarni    2019-12-30T14:59:42   \n",
       "39912   9284071230     momin mehraj    2020-01-05T18:47:31   \n",
       "39913   8291876969         Priyanka    2019-12-31T17:13:52   \n",
       "39914   8108234059           ritika    2020-01-01T03:47:55   \n",
       "39915   9427837770              NaN    2020-01-01T14:30:07   \n",
       "\n",
       "      $properties.$android_brand $properties.$android_os  \\\n",
       "39906                     xiaomi                 Android   \n",
       "39907                     realme                 Android   \n",
       "39908                       OPPO                 Android   \n",
       "39909                     xiaomi                 Android   \n",
       "39910                       LAVA                 Android   \n",
       "39911                     xiaomi                 Android   \n",
       "39912                    samsung                 Android   \n",
       "39913                       OPPO                 Android   \n",
       "39914                    samsung                 Android   \n",
       "39915                  undefined               undefined   \n",
       "\n",
       "      $properties.$android_lib_version $properties.$android_app_version_code  \n",
       "39906                            5.4.4                                    82  \n",
       "39907                            5.4.4                                    83  \n",
       "39908                            5.4.4                                    83  \n",
       "39909                            5.4.4                                    83  \n",
       "39910                            5.4.4                                    82  \n",
       "39911                            5.4.4                                    83  \n",
       "39912                            5.4.4                                    82  \n",
       "39913                            5.4.4                                    84  \n",
       "39914                            5.4.4                                    84  \n",
       "39915                        undefined                             undefined  "
      ]
     },
     "execution_count": 3,
     "metadata": {},
     "output_type": "execute_result"
    }
   ],
   "source": [
    "df.tail(10)"
   ]
  },
  {
   "cell_type": "code",
   "execution_count": 4,
   "metadata": {
    "collapsed": false
   },
   "outputs": [
    {
     "data": {
      "text/html": [
       "<div>\n",
       "<table border=\"1\" class=\"dataframe\">\n",
       "  <thead>\n",
       "    <tr style=\"text-align: right;\">\n",
       "      <th></th>\n",
       "      <th>$distinct_id</th>\n",
       "      <th>Name</th>\n",
       "      <th>$properties.$last_seen</th>\n",
       "      <th>$properties.$android_brand</th>\n",
       "      <th>$properties.$android_os</th>\n",
       "      <th>$properties.$android_lib_version</th>\n",
       "      <th>$properties.$android_app_version_code</th>\n",
       "    </tr>\n",
       "  </thead>\n",
       "  <tbody>\n",
       "    <tr>\n",
       "      <th>count</th>\n",
       "      <td>39916</td>\n",
       "      <td>18395</td>\n",
       "      <td>39916</td>\n",
       "      <td>39916</td>\n",
       "      <td>39916</td>\n",
       "      <td>39916</td>\n",
       "      <td>39916</td>\n",
       "    </tr>\n",
       "    <tr>\n",
       "      <th>unique</th>\n",
       "      <td>39916</td>\n",
       "      <td>11394</td>\n",
       "      <td>37517</td>\n",
       "      <td>101</td>\n",
       "      <td>2</td>\n",
       "      <td>3</td>\n",
       "      <td>78</td>\n",
       "    </tr>\n",
       "    <tr>\n",
       "      <th>top</th>\n",
       "      <td>9650029680</td>\n",
       "      <td>pooja</td>\n",
       "      <td>2020-01-01T14:41:19</td>\n",
       "      <td>samsung</td>\n",
       "      <td>Android</td>\n",
       "      <td>5.4.4</td>\n",
       "      <td>48</td>\n",
       "    </tr>\n",
       "    <tr>\n",
       "      <th>freq</th>\n",
       "      <td>1</td>\n",
       "      <td>173</td>\n",
       "      <td>4</td>\n",
       "      <td>9503</td>\n",
       "      <td>39221</td>\n",
       "      <td>39220</td>\n",
       "      <td>2952</td>\n",
       "    </tr>\n",
       "  </tbody>\n",
       "</table>\n",
       "</div>"
      ],
      "text/plain": [
       "       $distinct_id   Name $properties.$last_seen $properties.$android_brand  \\\n",
       "count         39916  18395                  39916                      39916   \n",
       "unique        39916  11394                  37517                        101   \n",
       "top      9650029680  pooja    2020-01-01T14:41:19                    samsung   \n",
       "freq              1    173                      4                       9503   \n",
       "\n",
       "       $properties.$android_os $properties.$android_lib_version  \\\n",
       "count                    39916                            39916   \n",
       "unique                       2                                3   \n",
       "top                    Android                            5.4.4   \n",
       "freq                     39221                            39220   \n",
       "\n",
       "       $properties.$android_app_version_code  \n",
       "count                                  39916  \n",
       "unique                                    78  \n",
       "top                                       48  \n",
       "freq                                    2952  "
      ]
     },
     "execution_count": 4,
     "metadata": {},
     "output_type": "execute_result"
    }
   ],
   "source": [
    "df.describe()"
   ]
  },
  {
   "cell_type": "code",
   "execution_count": 5,
   "metadata": {
    "collapsed": false
   },
   "outputs": [
    {
     "data": {
      "text/plain": [
       "(39916, 7)"
      ]
     },
     "execution_count": 5,
     "metadata": {},
     "output_type": "execute_result"
    }
   ],
   "source": [
    "df.shape"
   ]
  },
  {
   "cell_type": "code",
   "execution_count": 6,
   "metadata": {
    "collapsed": false
   },
   "outputs": [],
   "source": [
    "df.drop('$distinct_id', axis=1, inplace=True)"
   ]
  },
  {
   "cell_type": "code",
   "execution_count": 8,
   "metadata": {
    "collapsed": false
   },
   "outputs": [],
   "source": [
    "df.drop('Name', axis=1, inplace=True)"
   ]
  },
  {
   "cell_type": "code",
   "execution_count": 10,
   "metadata": {
    "collapsed": false
   },
   "outputs": [
    {
     "ename": "ValueError",
     "evalue": "labels ['properties.properties. last_seen'] not contained in axis",
     "output_type": "error",
     "traceback": [
      "\u001b[0;31m---------------------------------------------------------------------------\u001b[0m",
      "\u001b[0;31mValueError\u001b[0m                                Traceback (most recent call last)",
      "\u001b[0;32m<ipython-input-10-a661d254f548>\u001b[0m in \u001b[0;36m<module>\u001b[0;34m()\u001b[0m\n\u001b[0;32m----> 1\u001b[0;31m \u001b[0mdf\u001b[0m\u001b[1;33m.\u001b[0m\u001b[0mdrop\u001b[0m\u001b[1;33m(\u001b[0m\u001b[1;34m'properties.properties. last_seen'\u001b[0m\u001b[1;33m,\u001b[0m\u001b[0maxis\u001b[0m\u001b[1;33m=\u001b[0m\u001b[1;36m1\u001b[0m\u001b[1;33m,\u001b[0m\u001b[0minplace\u001b[0m\u001b[1;33m=\u001b[0m\u001b[1;32mTrue\u001b[0m\u001b[1;33m)\u001b[0m\u001b[1;33m\u001b[0m\u001b[0m\n\u001b[0m",
      "\u001b[0;32mE:\\anaconda\\lib\\site-packages\\pandas\\core\\generic.py\u001b[0m in \u001b[0;36mdrop\u001b[0;34m(self, labels, axis, level, inplace, errors)\u001b[0m\n\u001b[1;32m   1905\u001b[0m                 \u001b[0mnew_axis\u001b[0m \u001b[1;33m=\u001b[0m \u001b[0maxis\u001b[0m\u001b[1;33m.\u001b[0m\u001b[0mdrop\u001b[0m\u001b[1;33m(\u001b[0m\u001b[0mlabels\u001b[0m\u001b[1;33m,\u001b[0m \u001b[0mlevel\u001b[0m\u001b[1;33m=\u001b[0m\u001b[0mlevel\u001b[0m\u001b[1;33m,\u001b[0m \u001b[0merrors\u001b[0m\u001b[1;33m=\u001b[0m\u001b[0merrors\u001b[0m\u001b[1;33m)\u001b[0m\u001b[1;33m\u001b[0m\u001b[0m\n\u001b[1;32m   1906\u001b[0m             \u001b[1;32melse\u001b[0m\u001b[1;33m:\u001b[0m\u001b[1;33m\u001b[0m\u001b[0m\n\u001b[0;32m-> 1907\u001b[0;31m                 \u001b[0mnew_axis\u001b[0m \u001b[1;33m=\u001b[0m \u001b[0maxis\u001b[0m\u001b[1;33m.\u001b[0m\u001b[0mdrop\u001b[0m\u001b[1;33m(\u001b[0m\u001b[0mlabels\u001b[0m\u001b[1;33m,\u001b[0m \u001b[0merrors\u001b[0m\u001b[1;33m=\u001b[0m\u001b[0merrors\u001b[0m\u001b[1;33m)\u001b[0m\u001b[1;33m\u001b[0m\u001b[0m\n\u001b[0m\u001b[1;32m   1908\u001b[0m             \u001b[0mdropped\u001b[0m \u001b[1;33m=\u001b[0m \u001b[0mself\u001b[0m\u001b[1;33m.\u001b[0m\u001b[0mreindex\u001b[0m\u001b[1;33m(\u001b[0m\u001b[1;33m**\u001b[0m\u001b[1;33m{\u001b[0m\u001b[0maxis_name\u001b[0m\u001b[1;33m:\u001b[0m \u001b[0mnew_axis\u001b[0m\u001b[1;33m}\u001b[0m\u001b[1;33m)\u001b[0m\u001b[1;33m\u001b[0m\u001b[0m\n\u001b[1;32m   1909\u001b[0m             \u001b[1;32mtry\u001b[0m\u001b[1;33m:\u001b[0m\u001b[1;33m\u001b[0m\u001b[0m\n",
      "\u001b[0;32mE:\\anaconda\\lib\\site-packages\\pandas\\indexes\\base.py\u001b[0m in \u001b[0;36mdrop\u001b[0;34m(self, labels, errors)\u001b[0m\n\u001b[1;32m   3260\u001b[0m             \u001b[1;32mif\u001b[0m \u001b[0merrors\u001b[0m \u001b[1;33m!=\u001b[0m \u001b[1;34m'ignore'\u001b[0m\u001b[1;33m:\u001b[0m\u001b[1;33m\u001b[0m\u001b[0m\n\u001b[1;32m   3261\u001b[0m                 raise ValueError('labels %s not contained in axis' %\n\u001b[0;32m-> 3262\u001b[0;31m                                  labels[mask])\n\u001b[0m\u001b[1;32m   3263\u001b[0m             \u001b[0mindexer\u001b[0m \u001b[1;33m=\u001b[0m \u001b[0mindexer\u001b[0m\u001b[1;33m[\u001b[0m\u001b[1;33m~\u001b[0m\u001b[0mmask\u001b[0m\u001b[1;33m]\u001b[0m\u001b[1;33m\u001b[0m\u001b[0m\n\u001b[1;32m   3264\u001b[0m         \u001b[1;32mreturn\u001b[0m \u001b[0mself\u001b[0m\u001b[1;33m.\u001b[0m\u001b[0mdelete\u001b[0m\u001b[1;33m(\u001b[0m\u001b[0mindexer\u001b[0m\u001b[1;33m)\u001b[0m\u001b[1;33m\u001b[0m\u001b[0m\n",
      "\u001b[0;31mValueError\u001b[0m: labels ['properties.properties. last_seen'] not contained in axis"
     ]
    }
   ],
   "source": [
    "df.drop('properties.properties. last_seen',axis=1,inplace=True)"
   ]
  },
  {
   "cell_type": "code",
   "execution_count": null,
   "metadata": {
    "collapsed": true
   },
   "outputs": [],
   "source": []
  }
 ],
 "metadata": {
  "kernelspec": {
   "display_name": "Python 3",
   "language": "python",
   "name": "python3"
  },
  "language_info": {
   "codemirror_mode": {
    "name": "ipython",
    "version": 3
   },
   "file_extension": ".py",
   "mimetype": "text/x-python",
   "name": "python",
   "nbconvert_exporter": "python",
   "pygments_lexer": "ipython3",
   "version": "3.6.0"
  }
 },
 "nbformat": 4,
 "nbformat_minor": 2
}
